{
 "cells": [
  {
   "cell_type": "code",
   "execution_count": 147,
   "id": "f6c9e731",
   "metadata": {},
   "outputs": [],
   "source": [
    "import networkx as nx\n",
    "import numpy as np\n",
    "from collections import Counter\n",
    "import matplotlib.pyplot as plt"
   ]
  },
  {
   "cell_type": "code",
   "execution_count": 148,
   "id": "4f5e3105",
   "metadata": {},
   "outputs": [],
   "source": [
    "def random_state():\n",
    "    return 2*((np.random.random(N) > 0.5).astype('float') - 0.5)"
   ]
  },
  {
   "cell_type": "code",
   "execution_count": 149,
   "id": "b788b7d8",
   "metadata": {},
   "outputs": [],
   "source": [
    "def cost(J, x):\n",
    "    return (x.T @ J @ x)/N**1.5"
   ]
  },
  {
   "cell_type": "code",
   "execution_count": 150,
   "id": "388651c0",
   "metadata": {},
   "outputs": [],
   "source": [
    "def local_search(J, f, x):\n",
    "    best = f(J, x)\n",
    "    loops = 0\n",
    "#     print('-')\n",
    "#     print('start cost:', best)\n",
    "    while True:\n",
    "#         if loops % 20 == 0:\n",
    "#             print('loop', loops, 'cost:', best)\n",
    "        bestpos = None\n",
    "        for i in range(N):\n",
    "            x[i] *= -1\n",
    "            newcost = f(J, x)\n",
    "            if newcost < best:\n",
    "                best = newcost\n",
    "                bestpos = i\n",
    "            x[i] *= -1\n",
    "        if bestpos == None:\n",
    "            break\n",
    "        x[bestpos] *= -1\n",
    "        loops += 1\n",
    "#     print('final cost:', best)\n",
    "    return x, best"
   ]
  },
  {
   "cell_type": "code",
   "execution_count": 151,
   "id": "563d8bf1",
   "metadata": {},
   "outputs": [],
   "source": [
    "N = 10\n",
    "J = np.random.normal(size=(N,N))"
   ]
  },
  {
   "cell_type": "code",
   "execution_count": 152,
   "id": "235f7daa",
   "metadata": {},
   "outputs": [],
   "source": [
    "x = random_state()\n",
    "x, best = local_search(J, cost, x)"
   ]
  },
  {
   "cell_type": "markdown",
   "id": "fd4687cf",
   "metadata": {},
   "source": [
    "Using a bounded alternative function, $K' = tanh$. The strategy is to local search, then use tanh just below that area.\n",
    "\n"
   ]
  },
  {
   "cell_type": "code",
   "execution_count": 153,
   "id": "280742d9",
   "metadata": {},
   "outputs": [],
   "source": [
    "# integral of tanh is ln (cosh (x))\n",
    "def make_g(f, transition):\n",
    "    return lambda J, x: -np.log(np.abs(np.cosh(f(J, x) - transition)))"
   ]
  },
  {
   "cell_type": "code",
   "execution_count": 154,
   "id": "6ec5c0f3",
   "metadata": {},
   "outputs": [
    {
     "data": {
      "text/plain": [
       "[<matplotlib.lines.Line2D at 0x7f0c9b3c0c10>]"
      ]
     },
     "execution_count": 154,
     "metadata": {},
     "output_type": "execute_result"
    },
    {
     "data": {
      "image/png": "[encoded data removed]",
      "text/plain": [
       "<Figure size 432x288 with 1 Axes>"
      ]
     },
     "metadata": {
      "needs_background": "light"
     },
     "output_type": "display_data"
    }
   ],
   "source": [
    "inps = np.linspace(-2, 2, 10000)\n",
    "plt.plot(inps, np.log(np.abs(np.cosh(inps))))"
   ]
  },
  {
   "cell_type": "code",
   "execution_count": 162,
   "id": "1d83c05c",
   "metadata": {},
   "outputs": [
    {
     "name": "stdout",
     "output_type": "stream",
     "text": [
      "-0.8477671080131619\n",
      "-0.8477671080131619 -0.909652158589483\n",
      "-0.909652158589483 -0.9363392854804173\n",
      "-0.9363392854804173 -0.907230407719829\n",
      "-0.9363392854804173 -0.8849140921331543\n",
      "-0.9363392854804173 -0.9080317436358957\n",
      "-0.9363392854804173 -0.8814096894586764\n",
      "-0.9363392854804173 -0.8750117748943175\n",
      "-0.9363392854804173 -0.9049989993675778\n",
      "-0.9363392854804173 -0.9117354533259462\n",
      "-0.9363392854804173 -0.9553459158471563\n",
      "-0.9553459158471563 -0.9676372215421657\n",
      "-0.9676372215421657 -0.9085507642731903\n",
      "-0.9676372215421657 -0.8995293616629373\n",
      "-0.9676372215421657 -0.9289880596877874\n",
      "-0.9676372215421657 -0.9947066718788377\n",
      "-0.9947066718788377 -0.8983112101205976\n",
      "-0.9947066718788377 -0.8381851592072992\n",
      "-0.9947066718788377 -0.8981587573415988\n",
      "-0.9947066718788377 -0.9105452715424938\n",
      "-0.9947066718788377 -0.9272148296539885\n"
     ]
    }
   ],
   "source": [
    "N = 100\n",
    "J = np.random.normal(size=(N,N))\n",
    "\n",
    "x = random_state()\n",
    "x, best = local_search(J, cost, x)\n",
    "print(best)\n",
    "for i in range(20):\n",
    "    g = make_g(cost, best)\n",
    "    x, _ = local_search(J, g, x)\n",
    "    x, test = local_search(J, cost, x)\n",
    "#     if i % 10 == 0:\n",
    "    print(best, test)\n",
    "    if test < best:\n",
    "        best = test"
   ]
  },
  {
   "cell_type": "markdown",
   "id": "b65a44cd",
   "metadata": {},
   "source": [
    "At large N, this should approach the Parisi constant $\\sqrt{2} * 0.7632... = 1.079...$"
   ]
  },
  {
   "cell_type": "code",
   "execution_count": 158,
   "id": "92fb7799",
   "metadata": {},
   "outputs": [
    {
     "data": {
      "text/plain": [
       "1.0793277908031462"
      ]
     },
     "execution_count": 158,
     "metadata": {},
     "output_type": "execute_result"
    }
   ],
   "source": [
    "2**0.5 * 0.7632"
   ]
  },
  {
   "cell_type": "markdown",
   "id": "58d7969a",
   "metadata": {},
   "source": [
    "Things to try: \n",
    "* change the width of the tanh function.... or the offset....\n",
    "* implement the other functions like hBOA or GA ???\n",
    "* test at small N? or not, it's cool... might want to see if we're getting the right minimum...."
   ]
  },
  {
   "cell_type": "code",
   "execution_count": null,
   "id": "2b4a8ddc",
   "metadata": {},
   "outputs": [],
   "source": []
  }
 ],
 "metadata": {
  "kernelspec": {
   "display_name": "Python 3 (ipykernel)",
   "language": "python",
   "name": "python3"
  },
  "language_info": {
   "codemirror_mode": {
    "name": "ipython",
    "version": 3
   },
   "file_extension": ".py",
   "mimetype": "text/x-python",
   "name": "python",
   "nbconvert_exporter": "python",
   "pygments_lexer": "ipython3",
   "version": "3.8.8"
  }
 },
 "nbformat": 4,
 "nbformat_minor": 5
}
