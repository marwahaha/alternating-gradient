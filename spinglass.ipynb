{
 "cells": [
  {
   "cell_type": "code",
   "execution_count": 1,
   "id": "7ec1ce2d",
   "metadata": {},
   "outputs": [],
   "source": [
    "import networkx as nx\n",
    "import numpy as np\n",
    "from collections import Counter\n",
    "import matplotlib.pyplot as plt"
   ]
  },
  {
   "cell_type": "code",
   "execution_count": 2,
   "id": "69f7088e",
   "metadata": {},
   "outputs": [],
   "source": [
    "# make a random spin vector\n",
    "def random_state():\n",
    "    return 2*((np.random.random(N) > 0.5).astype('float') - 0.5)"
   ]
  },
  {
   "cell_type": "code",
   "execution_count": 3,
   "id": "d0aa5b84",
   "metadata": {},
   "outputs": [],
   "source": [
    "# cost function of spin glass\n",
    "def cost(J, x):\n",
    "    return (x.T @ J @ x)/N**1.5"
   ]
  },
  {
   "cell_type": "code",
   "execution_count": 4,
   "id": "68de9506",
   "metadata": {},
   "outputs": [],
   "source": [
    "# find best local update\n",
    "def local_search(J, f, x, verbose=False):\n",
    "    pr = print if verbose else lambda *x: x\n",
    "    best = f(J, x)\n",
    "    loops = 0\n",
    "    pr('-')\n",
    "    pr('start cost:', best)\n",
    "    while True:\n",
    "        if loops % 20 == 0:\n",
    "            pr('loop', loops, 'cost:', best)\n",
    "        bestpos = None\n",
    "        for i in range(N):\n",
    "            x[i] *= -1\n",
    "            newcost = f(J, x)\n",
    "            if newcost < best:\n",
    "                best = newcost\n",
    "                bestpos = i\n",
    "            x[i] *= -1\n",
    "        if bestpos == None:\n",
    "            break\n",
    "        x[bestpos] *= -1\n",
    "        loops += 1\n",
    "    pr('final cost:', best)\n",
    "    return x, best"
   ]
  },
  {
   "cell_type": "code",
   "execution_count": 5,
   "id": "e663a5b0",
   "metadata": {},
   "outputs": [
    {
     "name": "stdout",
     "output_type": "stream",
     "text": [
      "-\n",
      "start cost: 0.08759910087678596\n",
      "loop 0 cost: 0.08759910087678596\n",
      "loop 20 cost: -0.39087070518004546\n",
      "loop 40 cost: -0.6478017710308193\n",
      "loop 60 cost: -0.8036595333440774\n",
      "loop 80 cost: -0.8964781476205971\n",
      "loop 100 cost: -0.9635012906426891\n",
      "final cost: -0.9850169828722638\n"
     ]
    }
   ],
   "source": [
    "# initialize random couplings\n",
    "N = 200\n",
    "J = np.random.normal(size=(N,N))\n",
    "x = random_state()\n",
    "x, best = local_search(J, cost, x, verbose=True)"
   ]
  },
  {
   "cell_type": "markdown",
   "id": "8b639fff",
   "metadata": {},
   "source": [
    "At large N, this should approach the Parisi constant $\\sqrt{2} * 0.7632... = 1.079...$, 2**0.5 * 0.7632but the exact value depends on the spin glass. "
   ]
  },
  {
   "cell_type": "code",
   "execution_count": 6,
   "id": "259d1d4a",
   "metadata": {},
   "outputs": [
    {
     "data": {
      "text/plain": [
       "1.0793277908031462"
      ]
     },
     "execution_count": 6,
     "metadata": {},
     "output_type": "execute_result"
    }
   ],
   "source": [
    "2**0.5 * 0.7632"
   ]
  },
  {
   "cell_type": "markdown",
   "id": "4683c7c7",
   "metadata": {},
   "source": [
    "Now we try using a bounded alternative function, $K' =  -tanh$. The strategy is to local search, then use tanh just below that area.\n",
    "\n"
   ]
  },
  {
   "cell_type": "code",
   "execution_count": 7,
   "id": "de89e848",
   "metadata": {},
   "outputs": [
    {
     "data": {
      "text/plain": [
       "[<matplotlib.lines.Line2D at 0x7feee4933310>]"
      ]
     },
     "execution_count": 7,
     "metadata": {},
     "output_type": "execute_result"
    },
    {
     "data": {
      "image/png": "[encoded data removed]",
      "text/plain": [
       "<Figure size 432x288 with 1 Axes>"
      ]
     },
     "metadata": {
      "needs_background": "light"
     },
     "output_type": "display_data"
    }
   ],
   "source": [
    "inps = np.linspace(-8, 8, 10000)\n",
    "plt.plot(inps, -np.tanh(inps))"
   ]
  },
  {
   "cell_type": "code",
   "execution_count": 8,
   "id": "7ddff01a",
   "metadata": {},
   "outputs": [],
   "source": [
    "# integral of tanh is ln |cosh (x)|\n",
    "def make_g(f, transition_pt):\n",
    "    return lambda J, x: -np.log(np.abs(np.cosh(f(J, x) - transition_pt)))"
   ]
  },
  {
   "cell_type": "code",
   "execution_count": 9,
   "id": "633811e6",
   "metadata": {},
   "outputs": [
    {
     "name": "stdout",
     "output_type": "stream",
     "text": [
      "-0.9464173888754903\n",
      "-0.9464173888754903 -0.8545211150237193\n",
      "-1.00693663436774 -0.9303740341919693\n",
      "-1.00693663436774 -0.9290480898417486\n",
      "-1.00693663436774 -0.9350048791113655\n",
      "-1.00693663436774 -0.9057240012752328\n",
      "-1.00693663436774 -0.9290480898417486\n",
      "-1.00693663436774 -0.9350048791113655\n",
      "-1.00693663436774 -0.9057240012752328\n",
      "-1.00693663436774 -0.9290480898417486\n",
      "-1.00693663436774 -0.9350048791113655\n"
     ]
    }
   ],
   "source": [
    "N = 100\n",
    "J = np.random.normal(size=(N,N))\n",
    "\n",
    "x = random_state()\n",
    "x, best = local_search(J, cost, x)\n",
    "x_best = x\n",
    "print(best)\n",
    "for i in range(100):\n",
    "    g = make_g(cost, best-0.01) # the 0.01 controls the offset\n",
    "    x, _ = local_search(J, g, x)\n",
    "    x, test = local_search(J, cost, x)\n",
    "    if i % 10 == 0:\n",
    "        print(best, test)\n",
    "    if test < best:\n",
    "        best = test\n",
    "        x_best = x"
   ]
  },
  {
   "cell_type": "code",
   "execution_count": 10,
   "id": "70ac1351",
   "metadata": {},
   "outputs": [
    {
     "data": {
      "text/plain": [
       "array([ 1., -1.,  1., -1., -1.,  1., -1.,  1., -1., -1.,  1., -1.,  1.,\n",
       "        1., -1., -1.,  1., -1.,  1.,  1.,  1., -1., -1., -1., -1., -1.,\n",
       "        1.,  1., -1., -1.,  1.,  1., -1., -1., -1.,  1., -1.,  1., -1.,\n",
       "       -1., -1.,  1.,  1., -1., -1.,  1., -1.,  1., -1., -1., -1.,  1.,\n",
       "        1., -1.,  1.,  1., -1.,  1.,  1., -1.,  1.,  1.,  1.,  1., -1.,\n",
       "        1.,  1., -1.,  1., -1., -1.,  1.,  1.,  1.,  1.,  1.,  1.,  1.,\n",
       "        1.,  1.,  1., -1., -1., -1.,  1.,  1., -1., -1.,  1., -1.,  1.,\n",
       "        1.,  1.,  1.,  1., -1., -1.,  1.,  1., -1.])"
      ]
     },
     "execution_count": 10,
     "metadata": {},
     "output_type": "execute_result"
    }
   ],
   "source": [
    "x_best"
   ]
  },
  {
   "cell_type": "markdown",
   "id": "5f473eb9",
   "metadata": {},
   "source": [
    "Other things we could try:\n",
    "* change the width of the tanh function\n",
    "* implement the other functions like hBOA or GA ? (These are quite complicated...)\n",
    "* test at small N? (implement branch n bround?) or not, it's cool... might want to see if we're getting the right minimum...."
   ]
  },
  {
   "cell_type": "code",
   "execution_count": null,
   "id": "6ebfb994",
   "metadata": {},
   "outputs": [],
   "source": []
  }
 ],
 "metadata": {
  "kernelspec": {
   "display_name": "Python 3 (ipykernel)",
   "language": "python",
   "name": "python3"
  },
  "language_info": {
   "codemirror_mode": {
    "name": "ipython",
    "version": 3
   },
   "file_extension": ".py",
   "mimetype": "text/x-python",
   "name": "python",
   "nbconvert_exporter": "python",
   "pygments_lexer": "ipython3",
   "version": "3.8.8"
  }
 },
 "nbformat": 4,
 "nbformat_minor": 5
}
